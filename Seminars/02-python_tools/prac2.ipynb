{
  "cells": [
    {
      "cell_type": "markdown",
      "metadata": {
        "id": "SHKgScid2b4Z"
      },
      "source": [
        "# `Практикум по программированию на языке Python`\n",
        "<br>\n",
        "\n",
        "## `Занятие 2: Функции, модули, классы. Итераторы и генераторы`\n",
        "<br><br>\n",
        "\n",
        "###  `Елена Акопова, Роман Ищенко (sir.rois@yandex.ru)`\n",
        "\n",
        "#### `Москва, 2025`"
      ]
    },
    {
      "cell_type": "markdown",
      "metadata": {
        "id": "v3QPQ-SU2b4b"
      },
      "source": [
        "# `Мотивация`"
      ]
    },
    {
      "cell_type": "markdown",
      "metadata": {
        "id": "HtI_kS9C2b4b"
      },
      "source": [
        "Функции, модули, классы позволяют организовать и структурировать код, избежать повторяющихся фрагментов.\n",
        "\n",
        "Кроме того:\n",
        "- упростить отладку\n",
        "- упростить создание тестов\n",
        "- улучшить «понимаемость» кода"
      ]
    },
    {
      "cell_type": "markdown",
      "metadata": {
        "id": "fc0_pjsw8OiA"
      },
      "source": [
        "#Функции"
      ]
    },
    {
      "cell_type": "markdown",
      "metadata": {
        "id": "4rGg0qKe2b4b"
      },
      "source": [
        "### `range, enumerate, zip`"
      ]
    },
    {
      "cell_type": "code",
      "execution_count": 1,
      "metadata": {
        "colab": {
          "base_uri": "https://localhost:8080/"
        },
        "id": "UpZtz0NP2b4b",
        "outputId": "e167e3af-01db-4ae0-b786-2864f11a4515"
      },
      "outputs": [
        {
          "name": "stdout",
          "output_type": "stream",
          "text": [
            "<class 'range'>\n",
            "2 5 8 "
          ]
        }
      ],
      "source": [
        "r = range(2, 10, 3)\n",
        "print(type(r))\n",
        "\n",
        "for e in r:\n",
        "    print(e, end=' ')"
      ]
    },
    {
      "cell_type": "code",
      "execution_count": 3,
      "metadata": {
        "colab": {
          "base_uri": "https://localhost:8080/"
        },
        "id": "gOwwW1XS2b4d",
        "outputId": "d1e94be1-8d5a-4d22-fc4e-3e0e3438d480"
      },
      "outputs": [
        {
          "name": "stdout",
          "output_type": "stream",
          "text": [
            "0 a   1 b   2 c   3 d   4 e   5 f   "
          ]
        }
      ],
      "source": [
        "for index, element in enumerate(list('abcdef')):\n",
        "    print(index, element, end='   ')"
      ]
    },
    {
      "cell_type": "code",
      "execution_count": 2,
      "metadata": {
        "colab": {
          "base_uri": "https://localhost:8080/"
        },
        "id": "6h09d0Co2b4d",
        "outputId": "c4704068-2bfb-46f4-bb84-6318e6b291f3"
      },
      "outputs": [
        {
          "name": "stdout",
          "output_type": "stream",
          "text": [
            "1 a  2 b  3 c  "
          ]
        }
      ],
      "source": [
        "for a, b in zip([1, 2, 3], 'abc'):\n",
        "    print(a, b, end='  ')"
      ]
    },
    {
      "cell_type": "code",
      "execution_count": 5,
      "metadata": {
        "colab": {
          "base_uri": "https://localhost:8080/"
        },
        "id": "HAKyiPfj2b4d",
        "outputId": "3976032b-9282-4e6e-d358-ac41892149a1"
      },
      "outputs": [
        {
          "name": "stdout",
          "output_type": "stream",
          "text": [
            "('a', 'a')\n",
            "('b', 'b')\n",
            "('c', 'c')\n"
          ]
        }
      ],
      "source": [
        "for e in zip('abcdef', 'abc'):\n",
        "    print(e)"
      ]
    },
    {
      "cell_type": "code",
      "execution_count": 1,
      "metadata": {
        "colab": {
          "base_uri": "https://localhost:8080/"
        },
        "id": "nbkPY0NN2b4d",
        "outputId": "faf831fa-f0e6-4797-afce-017ba22e328a"
      },
      "outputs": [
        {
          "name": "stdout",
          "output_type": "stream",
          "text": [
            "a 1 True x\n",
            "b 2 False y\n",
            "c 3 None z\n"
          ]
        }
      ],
      "source": [
        "for a, b, c, d in zip('abc', [1,2,3], [True, False, None], 'xyzа'):\n",
        "    print(a, b, c, d)"
      ]
    },
    {
      "cell_type": "markdown",
      "metadata": {
        "id": "H41t7ms_2b4d"
      },
      "source": [
        "### `Определение собственных функций`"
      ]
    },
    {
      "cell_type": "code",
      "execution_count": 2,
      "metadata": {
        "colab": {
          "base_uri": "https://localhost:8080/"
        },
        "id": "6Bm__z4y2b4d",
        "outputId": "31b246c0-ec5f-4e45-9369-af8e0c6b396f"
      },
      "outputs": [
        {
          "name": "stdout",
          "output_type": "stream",
          "text": [
            "10 None\n",
            "10 20\n"
          ]
        }
      ],
      "source": [
        "def function(arg_1, arg_2=None):\n",
        "    \"\"\"Factorial function\"\"\"\n",
        "    function.a = 4\n",
        "    print(arg_1, arg_2)\n",
        "\n",
        "function(10)\n",
        "function(10, 20)"
      ]
    },
    {
      "cell_type": "markdown",
      "metadata": {
        "id": "N30H_teu2b4e"
      },
      "source": [
        "Функция - это тоже объект, её имя - просто символическая ссылка:"
      ]
    },
    {
      "cell_type": "code",
      "execution_count": 3,
      "metadata": {
        "colab": {
          "base_uri": "https://localhost:8080/"
        },
        "id": "eaHmB-oG2b4e",
        "outputId": "0da2e29e-5c4b-476d-ed11-131e19b2bd78"
      },
      "outputs": [
        {
          "name": "stdout",
          "output_type": "stream",
          "text": [
            "10 None\n",
            "True\n"
          ]
        }
      ],
      "source": [
        "f = function\n",
        "f(10)\n",
        "\n",
        "print(function is f)"
      ]
    },
    {
      "cell_type": "markdown",
      "metadata": {
        "id": "e2sfVWxb2b4e"
      },
      "source": [
        "У функции есть атрибуты, например: `__doc__` или `__dict__` (список атрибутов функции)"
      ]
    },
    {
      "cell_type": "code",
      "execution_count": 25,
      "metadata": {
        "colab": {
          "base_uri": "https://localhost:8080/",
          "height": 53
        },
        "id": "JRMz5BrD2b4e",
        "outputId": "ce656cfd-1aad-4a6e-97b5-6c0fddb61fe4"
      },
      "outputs": [
        {
          "name": "stdout",
          "output_type": "stream",
          "text": [
            "['__annotations__', '__builtins__', '__call__', '__class__'] 39\n"
          ]
        },
        {
          "data": {
            "application/vnd.google.colaboratory.intrinsic+json": {
              "type": "string"
            },
            "text/plain": [
              "'Factorial function'"
            ]
          },
          "execution_count": 25,
          "metadata": {},
          "output_type": "execute_result"
        }
      ],
      "source": [
        "print(dir(f)[: 4], len(dir(f)))\n",
        "f.__doc__"
      ]
    },
    {
      "cell_type": "code",
      "execution_count": 23,
      "metadata": {
        "colab": {
          "base_uri": "https://localhost:8080/"
        },
        "id": "u-rvHbz52b4e",
        "outputId": "4794ca96-452e-4f9a-df00-2a614838a9f1"
      },
      "outputs": [
        {
          "name": "stdout",
          "output_type": "stream",
          "text": [
            "{}\n",
            "{'my_attr': 0}\n"
          ]
        }
      ],
      "source": [
        "# del f.my_attr\n",
        "print(f.__dict__)\n",
        "f.my_attr = 0\n",
        "print(f.__dict__)"
      ]
    },
    {
      "cell_type": "markdown",
      "metadata": {
        "id": "q4oyvQz_ycXI"
      },
      "source": [
        "Можно создавать пользовательские атрибуты"
      ]
    },
    {
      "cell_type": "code",
      "execution_count": null,
      "metadata": {
        "id": "Vpo-grSIyuiL"
      },
      "outputs": [],
      "source": [
        "def counter():\n",
        "    if not hasattr(counter, 'count'):\n",
        "        counter.count = 0\n",
        "    counter.count += 1\n",
        "    return counter.count\n",
        "\n",
        "print(counter())\n",
        "print(counter())\n",
        "print(counter())\n",
        "print(counter.count)"
      ]
    },
    {
      "cell_type": "markdown",
      "metadata": {
        "id": "yc7QGBtZ2b4e"
      },
      "source": [
        "### `Рекурсия`"
      ]
    },
    {
      "cell_type": "code",
      "execution_count": null,
      "metadata": {
        "id": "3WDW6DBTy_1E"
      },
      "outputs": [],
      "source": [
        "def factorial(n):\n",
        "    return n * factorial(n - 1) if n > 1 else 1\n",
        "\n",
        "print(factorial(1))\n",
        "print(factorial(2))\n",
        "print(factorial(4))"
      ]
    },
    {
      "cell_type": "markdown",
      "metadata": {
        "id": "IzsjpLJ22b4e"
      },
      "source": [
        "При достижении глубины вызовов, заданной в системе, программа выбросит исключение `RecursionError`\n",
        "\n",
        "Заданную глубину рекурсии можно узнать и изменить, если есть такая необходимость."
      ]
    },
    {
      "cell_type": "code",
      "execution_count": 29,
      "metadata": {
        "colab": {
          "base_uri": "https://localhost:8080/"
        },
        "id": "Noe5h0gV2b4e",
        "outputId": "0ee5cb98-f8c4-46ba-8ef7-62126ace4933"
      },
      "outputs": [
        {
          "name": "stdout",
          "output_type": "stream",
          "text": [
            "1000\n",
            "1000\n"
          ]
        }
      ],
      "source": [
        "import sys\n",
        "print(sys.getrecursionlimit())\n",
        "\n",
        "sys.setrecursionlimit(1000)\n",
        "print(sys.getrecursionlimit())\n"
      ]
    },
    {
      "cell_type": "markdown",
      "metadata": {
        "id": "NGrC8mk92b4f"
      },
      "source": [
        "### `Передача аргументов в функцию`\n",
        "\n",
        "Параметры в Python всегда передаются по ссылке"
      ]
    },
    {
      "cell_type": "code",
      "execution_count": 30,
      "metadata": {
        "id": "9EaTA8Qr2b4f"
      },
      "outputs": [],
      "source": [
        "def function(scalar, lst):\n",
        "    scalar += 10\n",
        "    print(f'Scalar in function: {scalar}')\n",
        "\n",
        "    lst.append(None)\n",
        "    print(f'List in function: {lst}')"
      ]
    },
    {
      "cell_type": "code",
      "execution_count": 31,
      "metadata": {
        "colab": {
          "base_uri": "https://localhost:8080/"
        },
        "id": "tjfvmh3S2b4f",
        "outputId": "c2081abc-170e-4f19-d218-d4fc96872f4c"
      },
      "outputs": [
        {
          "name": "stdout",
          "output_type": "stream",
          "text": [
            "Scalar in function: 15\n",
            "List in function: [None]\n",
            "5 [None]\n"
          ]
        }
      ],
      "source": [
        "s, l = 5, []\n",
        "function(s, l)\n",
        "\n",
        "print(s, l)"
      ]
    },
    {
      "cell_type": "markdown",
      "metadata": {
        "id": "5sj3mwRj2b4f"
      },
      "source": [
        "Использовать изменяемые объекты в качестве значений по умолчанию опасно и не нужно"
      ]
    },
    {
      "cell_type": "code",
      "execution_count": 35,
      "metadata": {
        "colab": {
          "base_uri": "https://localhost:8080/"
        },
        "id": "W2R0YF2q2b4f",
        "outputId": "c3ca43eb-2e2a-4c46-8288-68420c2bfdf8"
      },
      "outputs": [
        {
          "name": "stdout",
          "output_type": "stream",
          "text": [
            "[1, 2, 3]\n",
            "[]\n"
          ]
        }
      ],
      "source": [
        "def func_1(list_of_items, my_set=set()):\n",
        "    final_list = list()\n",
        "    for item in list_of_items:\n",
        "        if item not in my_set:\n",
        "            my_set.add(item)\n",
        "            final_list.append(item)\n",
        "    return final_list\n",
        "\n",
        "my_list = [1, 2, 3]\n",
        "print(func_1(my_list))\n",
        "print(func_1(my_list))"
      ]
    },
    {
      "cell_type": "markdown",
      "metadata": {
        "id": "jy6MSp37zahA"
      },
      "source": [
        "Безопасная реализация той же логики"
      ]
    },
    {
      "cell_type": "code",
      "execution_count": 7,
      "metadata": {
        "colab": {
          "base_uri": "https://localhost:8080/"
        },
        "id": "4Ac_l5jd_08D",
        "outputId": "8d6932f5-8542-428d-e39c-5299e9bfd547"
      },
      "outputs": [
        {
          "name": "stdout",
          "output_type": "stream",
          "text": [
            "[1, 2, 3]\n",
            "[1, 2, 3]\n"
          ]
        }
      ],
      "source": [
        "def func_1(list_of_items, my_set=None):\n",
        "    if my_set is None:\n",
        "        my_set = set()\n",
        "\n",
        "    final_list = list()\n",
        "    for item in list_of_items:\n",
        "        if item not in my_set:\n",
        "            my_set.add(item)\n",
        "            final_list.append(item)\n",
        "    return final_list\n",
        "my_list = [1, 2, 3]\n",
        "print(func_1(my_list))\n",
        "print(func_1(my_list))"
      ]
    },
    {
      "cell_type": "markdown",
      "metadata": {
        "id": "nvrD6BuV9l_N"
      },
      "source": [
        "### `Именованные аргументы`"
      ]
    },
    {
      "cell_type": "markdown",
      "metadata": {
        "id": "PjwFlFjV97Pa"
      },
      "source": [
        "*args используется для сбора произвольного числа позиционных аргументов."
      ]
    },
    {
      "cell_type": "code",
      "execution_count": 36,
      "metadata": {
        "colab": {
          "base_uri": "https://localhost:8080/"
        },
        "id": "PoNtoxR42b4f",
        "outputId": "3b65c94e-280f-452f-b749-db3d0d9daa13"
      },
      "outputs": [
        {
          "name": "stdout",
          "output_type": "stream",
          "text": [
            "<class 'tuple'>\n",
            "[10, 2, 6, 8]\n"
          ]
        }
      ],
      "source": [
        "def f(a, *args):\n",
        "    print(type(args))\n",
        "    print([v for v in [a] + list(args)])\n",
        "\n",
        "f(10, 2, 6, 8)"
      ]
    },
    {
      "cell_type": "code",
      "execution_count": 9,
      "metadata": {
        "colab": {
          "base_uri": "https://localhost:8080/",
          "height": 211
        },
        "id": "8MOvnqV_2b4f",
        "outputId": "52f0ea0a-3fe7-4933-ace7-f8a57006fac2"
      },
      "outputs": [
        {
          "name": "stdout",
          "output_type": "stream",
          "text": [
            "[10, 2, 6, 8]\n",
            "\n"
          ]
        },
        {
          "ename": "TypeError",
          "evalue": "f() missing 1 required keyword-only argument: 'a'",
          "output_type": "error",
          "traceback": [
            "\u001b[0;31m---------------------------------------------------------------------------\u001b[0m",
            "\u001b[0;31mTypeError\u001b[0m                                 Traceback (most recent call last)",
            "\u001b[0;32m/tmp/ipython-input-3449559996.py\u001b[0m in \u001b[0;36m<cell line: 0>\u001b[0;34m()\u001b[0m\n\u001b[1;32m      4\u001b[0m \u001b[0;34m\u001b[0m\u001b[0m\n\u001b[1;32m      5\u001b[0m \u001b[0mf\u001b[0m\u001b[0;34m(\u001b[0m\u001b[0;36m2\u001b[0m\u001b[0;34m,\u001b[0m \u001b[0;36m6\u001b[0m\u001b[0;34m,\u001b[0m \u001b[0;36m8\u001b[0m\u001b[0;34m,\u001b[0m \u001b[0ma\u001b[0m\u001b[0;34m=\u001b[0m\u001b[0;36m10\u001b[0m\u001b[0;34m)\u001b[0m\u001b[0;34m\u001b[0m\u001b[0;34m\u001b[0m\u001b[0m\n\u001b[0;32m----> 6\u001b[0;31m \u001b[0mf\u001b[0m\u001b[0;34m(\u001b[0m\u001b[0;36m2\u001b[0m\u001b[0;34m,\u001b[0m \u001b[0;36m3\u001b[0m\u001b[0;34m,\u001b[0m \u001b[0;36m4\u001b[0m\u001b[0;34m)\u001b[0m\u001b[0;34m\u001b[0m\u001b[0;34m\u001b[0m\u001b[0m\n\u001b[0m",
            "\u001b[0;31mTypeError\u001b[0m: f() missing 1 required keyword-only argument: 'a'"
          ]
        }
      ],
      "source": [
        "def f(*args, a):\n",
        "    print([v for v in [a] + list(args)])\n",
        "    print()\n",
        "\n",
        "f(2, 6, 8, a=10)\n",
        "f(2, 3, 4)"
      ]
    },
    {
      "cell_type": "markdown",
      "metadata": {
        "id": "DfSkpqXU-AWd"
      },
      "source": [
        "**kwargs используется для сбора произвольного числа именованных (ключевых) аргументов в виде словаря."
      ]
    },
    {
      "cell_type": "code",
      "execution_count": 10,
      "metadata": {
        "colab": {
          "base_uri": "https://localhost:8080/"
        },
        "id": "rqjacgWm2b4f",
        "outputId": "1d695313-8688-465e-c47d-1b78e4995e7a"
      },
      "outputs": [
        {
          "name": "stdout",
          "output_type": "stream",
          "text": [
            "<class 'dict'>\n",
            "[2, 6, 8, ('arg1', 1), ('arg2', 2)]\n"
          ]
        }
      ],
      "source": [
        "def f(a, *args, **kw):\n",
        "    print(type(kw))\n",
        "    print([v for v in [a] + list(args) + [(k, v) for k, v in kw.items()]])\n",
        "\n",
        "f(2, *(6, 8), **{'arg1': 1, 'arg2': 2})"
      ]
    },
    {
      "cell_type": "code",
      "execution_count": 11,
      "metadata": {
        "colab": {
          "base_uri": "https://localhost:8080/"
        },
        "id": "-vPXbWVl2b4f",
        "outputId": "c0782b33-1eb4-4cee-b37e-9152fd5c0a17"
      },
      "outputs": [
        {
          "name": "stdout",
          "output_type": "stream",
          "text": [
            "[1, 2, 3, 10, 100, ('d', 1000)]\n"
          ]
        }
      ],
      "source": [
        "def test(a, *args, b, c=100, **kw):\n",
        "    print([v for v in [a] + list(args) + [b] + [c] + [(k, v) for k, v in kw.items()]])\n",
        "\n",
        "test(1, 2, 3, b=10, d=1000)"
      ]
    },
    {
      "cell_type": "markdown",
      "metadata": {
        "id": "fP3_nY6H2b4f"
      },
      "source": [
        "### `Спецификация позиционности параметров`\n",
        "\n",
        "- Начиная с версии 3.8 в Python появилась возможность явно запрещать передачу параметров по имени или позиции\n",
        "- Мотивация - дать возможность запрета именованных параметров там, где это нужно (это позволяет эмулировать C-подобные функции)\n",
        "- Часть встроенных функций самого языка и раньше имели такое свойство, например, `math.exp`:"
      ]
    },
    {
      "cell_type": "code",
      "execution_count": 33,
      "metadata": {
        "id": "0VRRu6YM2b4f"
      },
      "outputs": [],
      "source": [
        "import math\n",
        "#help(math.exp) -> ... exp(x, /) ..."
      ]
    },
    {
      "cell_type": "code",
      "execution_count": 34,
      "metadata": {
        "colab": {
          "base_uri": "https://localhost:8080/"
        },
        "id": "kHkx9qhl2b4f",
        "outputId": "649c50e9-59ab-4b6b-c31c-c50e77a71ce1"
      },
      "outputs": [
        {
          "name": "stdout",
          "output_type": "stream",
          "text": [
            "148.4131591025766\n"
          ]
        }
      ],
      "source": [
        "print(math.exp(5))\n",
        "#print(math.exp(x=5)) -> TypeError: math.exp() takes no keyword arguments"
      ]
    },
    {
      "cell_type": "markdown",
      "metadata": {
        "id": "zsbort4a2b4f"
      },
      "source": [
        "Синтаксис заголовка функции:"
      ]
    },
    {
      "cell_type": "code",
      "execution_count": null,
      "metadata": {
        "id": "mRCxJDWY2b4v"
      },
      "outputs": [],
      "source": [
        "def func(positional_only_parameters, /, positional_or_keyword_parameters, *, keyword_only_parameters): pass"
      ]
    },
    {
      "cell_type": "code",
      "execution_count": null,
      "metadata": {
        "id": "VK7M0tG02b4v"
      },
      "outputs": [],
      "source": [
        "def f(a, b, /, c, *, d): pass\n",
        "#f(1, 2, 3, 4) -> TypeError: func() takes 3 positional arguments but 4 were given\n",
        "#f(a=1, b=2, c=3, d=4) -> TypeError: func() got some positional-only arguments passed as keyword arguments: 'a, b'\n",
        "f(1, 2, 4, d=3) # OK\n",
        "f(1, 2, d=4, c=3) # OK"
      ]
    },
    {
      "cell_type": "markdown",
      "metadata": {
        "id": "vzfFeiIw2b4v"
      },
      "source": [
        "### `Области видимости переменных`\n",
        "\n",
        "В Python есть 4 основных уровня видимости:\n",
        "\n",
        "- Встроенная (buildins) - на этом уровне находятся все встроенные объекты (функции, классы исключений и т.п.)<br><br>\n",
        "- Глобальная в рамках модуля (global) - всё, что определяется в коде модуля на верхнем уровне<br><br>\n",
        "- Объемлющей функции (enclosed) - всё, что определено в функции верхнего уровня<br><br>\n",
        "- Локальной функции (local) - всё, что определено в функции нижнего уровня\n",
        "\n",
        "<br><br>\n",
        "Есть ещё области видимости совсем локализованные, например, списковых включений и т.п."
      ]
    },
    {
      "cell_type": "markdown",
      "metadata": {
        "id": "CA6vuYJA2b4v"
      },
      "source": [
        "### `Правило разрешения области видимости LEGB при чтении`"
      ]
    },
    {
      "cell_type": "code",
      "execution_count": 22,
      "metadata": {
        "id": "KbPyA0UH2b4w"
      },
      "outputs": [],
      "source": [
        "a = []\n",
        "\n",
        "def outer_func(x):\n",
        "    def inner_func(x):\n",
        "        a.append(x)\n",
        "        return len(x)\n",
        "    return inner_func(x)"
      ]
    },
    {
      "cell_type": "code",
      "execution_count": 23,
      "metadata": {
        "colab": {
          "base_uri": "https://localhost:8080/"
        },
        "id": "Sne2Vmai2b4w",
        "outputId": "0615ab90-9553-4d86-99b9-6f4df36ffb06"
      },
      "outputs": [
        {
          "name": "stdout",
          "output_type": "stream",
          "text": [
            "2\n"
          ]
        }
      ],
      "source": [
        "print(outer_func([1, 2]))\n"
      ]
    },
    {
      "cell_type": "markdown",
      "metadata": {
        "id": "FBV-K4G12b4w"
      },
      "source": [
        "Кто определил имя `len`?\n",
        "\n",
        "- на уровне вложенной функции такого имени нет, смотрим выше\n",
        "- на уровне объемлющей функции такого имени нет, смотрим выше\n",
        "- на уровне модуля такого имени нет, смотрим выше\n",
        "- на уровне builtins такое имя есть, используем его"
      ]
    },
    {
      "cell_type": "markdown",
      "metadata": {
        "id": "flYwNGN_2b4w"
      },
      "source": [
        "### `На builtins можно посмотреть`"
      ]
    },
    {
      "cell_type": "code",
      "execution_count": 26,
      "metadata": {
        "colab": {
          "base_uri": "https://localhost:8080/"
        },
        "id": "WOGXLtXO2b4w",
        "outputId": "37860f97-e6ba-46d5-c477-cc7127f39a95"
      },
      "outputs": [
        {
          "data": {
            "text/plain": [
              "['abs', 'aiter', 'all', 'anext', 'any']"
            ]
          },
          "execution_count": 26,
          "metadata": {},
          "output_type": "execute_result"
        }
      ],
      "source": [
        "import builtins\n",
        "\n",
        "counter = 0\n",
        "lst = []\n",
        "for name in dir(builtins):\n",
        "    if name[0].islower():\n",
        "        lst.append(name)\n",
        "        counter += 1\n",
        "\n",
        "    if counter == 5:\n",
        "        break\n",
        "\n",
        "lst"
      ]
    },
    {
      "cell_type": "markdown",
      "metadata": {
        "id": "C0-wicgt2b4w"
      },
      "source": [
        "Кстати, то же самое можно сделать более pythonic кодом:"
      ]
    },
    {
      "cell_type": "code",
      "execution_count": 27,
      "metadata": {
        "colab": {
          "base_uri": "https://localhost:8080/"
        },
        "id": "Fgl6I_gS2b4w",
        "outputId": "ec087528-33a6-4f88-9aa4-813aed71f765"
      },
      "outputs": [
        {
          "data": {
            "text/plain": [
              "['abs', 'aiter', 'all', 'anext', 'any']"
            ]
          },
          "execution_count": 27,
          "metadata": {},
          "output_type": "execute_result"
        }
      ],
      "source": [
        "list(filter(lambda x: x[0].islower(), dir(builtins)))[: 5]"
      ]
    },
    {
      "cell_type": "markdown",
      "metadata": {
        "id": "CV6qXG_92b4w"
      },
      "source": [
        "### `Локальные и глобальные переменные`"
      ]
    },
    {
      "cell_type": "code",
      "execution_count": 30,
      "metadata": {
        "colab": {
          "base_uri": "https://localhost:8080/"
        },
        "id": "DMxl2pXV2b4w",
        "outputId": "6fe62806-653d-471d-b093-a1327145e6f9"
      },
      "outputs": [
        {
          "name": "stdout",
          "output_type": "stream",
          "text": [
            "Inside:  2\n",
            "Outside:  2\n"
          ]
        }
      ],
      "source": [
        "x = 2\n",
        "def func():\n",
        "    print('Inside: ', x)  # read\n",
        "\n",
        "func()\n",
        "print('Outside: ', x)"
      ]
    },
    {
      "cell_type": "code",
      "execution_count": 29,
      "metadata": {
        "colab": {
          "base_uri": "https://localhost:8080/",
          "height": 315
        },
        "id": "JOyBtaxb2b4w",
        "outputId": "68b5d0b2-01d2-407d-e5de-8522ff4e6e67"
      },
      "outputs": [
        {
          "ename": "UnboundLocalError",
          "evalue": "cannot access local variable 'x' where it is not associated with a value",
          "output_type": "error",
          "traceback": [
            "\u001b[0;31m---------------------------------------------------------------------------\u001b[0m",
            "\u001b[0;31mUnboundLocalError\u001b[0m                         Traceback (most recent call last)",
            "\u001b[0;32m/tmp/ipython-input-3970784950.py\u001b[0m in \u001b[0;36m<cell line: 0>\u001b[0;34m()\u001b[0m\n\u001b[1;32m      5\u001b[0m     \u001b[0mprint\u001b[0m\u001b[0;34m(\u001b[0m\u001b[0;34m'Inside: '\u001b[0m\u001b[0;34m,\u001b[0m \u001b[0mx\u001b[0m\u001b[0;34m)\u001b[0m\u001b[0;34m\u001b[0m\u001b[0;34m\u001b[0m\u001b[0m\n\u001b[1;32m      6\u001b[0m \u001b[0;34m\u001b[0m\u001b[0m\n\u001b[0;32m----> 7\u001b[0;31m \u001b[0mfunc\u001b[0m\u001b[0;34m(\u001b[0m\u001b[0;34m)\u001b[0m  \u001b[0;31m# UnboundLocalError: local variable 'x' referenced before assignment\u001b[0m\u001b[0;34m\u001b[0m\u001b[0;34m\u001b[0m\u001b[0m\n\u001b[0m\u001b[1;32m      8\u001b[0m \u001b[0mprint\u001b[0m\u001b[0;34m(\u001b[0m\u001b[0;34m'Outside: '\u001b[0m\u001b[0;34m,\u001b[0m \u001b[0mx\u001b[0m\u001b[0;34m)\u001b[0m\u001b[0;34m\u001b[0m\u001b[0;34m\u001b[0m\u001b[0m\n",
            "\u001b[0;32m/tmp/ipython-input-3970784950.py\u001b[0m in \u001b[0;36mfunc\u001b[0;34m()\u001b[0m\n\u001b[1;32m      2\u001b[0m \u001b[0;34m\u001b[0m\u001b[0m\n\u001b[1;32m      3\u001b[0m \u001b[0;32mdef\u001b[0m \u001b[0mfunc\u001b[0m\u001b[0;34m(\u001b[0m\u001b[0;34m)\u001b[0m\u001b[0;34m:\u001b[0m\u001b[0;34m\u001b[0m\u001b[0;34m\u001b[0m\u001b[0m\n\u001b[0;32m----> 4\u001b[0;31m     \u001b[0mx\u001b[0m \u001b[0;34m+=\u001b[0m \u001b[0;36m1\u001b[0m  \u001b[0;31m# write\u001b[0m\u001b[0;34m\u001b[0m\u001b[0;34m\u001b[0m\u001b[0m\n\u001b[0m\u001b[1;32m      5\u001b[0m     \u001b[0mprint\u001b[0m\u001b[0;34m(\u001b[0m\u001b[0;34m'Inside: '\u001b[0m\u001b[0;34m,\u001b[0m \u001b[0mx\u001b[0m\u001b[0;34m)\u001b[0m\u001b[0;34m\u001b[0m\u001b[0;34m\u001b[0m\u001b[0m\n\u001b[1;32m      6\u001b[0m \u001b[0;34m\u001b[0m\u001b[0m\n",
            "\u001b[0;31mUnboundLocalError\u001b[0m: cannot access local variable 'x' where it is not associated with a value"
          ]
        }
      ],
      "source": [
        "x = 2\n",
        "\n",
        "def func():\n",
        "    x += 1  # write\n",
        "    print('Inside: ', x)\n",
        "\n",
        "func()  # UnboundLocalError: local variable 'x' referenced before assignment\n",
        "print('Outside: ', x)"
      ]
    },
    {
      "cell_type": "code",
      "execution_count": 33,
      "metadata": {
        "colab": {
          "base_uri": "https://localhost:8080/"
        },
        "id": "giTFt4wr2b4w",
        "outputId": "b0341c97-fc05-47d1-d094-f2b6462a7986"
      },
      "outputs": [
        {
          "name": "stdout",
          "output_type": "stream",
          "text": [
            "Inside:  4\n",
            "Outside:  2\n"
          ]
        }
      ],
      "source": [
        "x = 2\n",
        "def func():\n",
        "    x = 3\n",
        "    x += 1\n",
        "    print('Inside: ', x)\n",
        "\n",
        "func()\n",
        "print('Outside: ', x)"
      ]
    },
    {
      "cell_type": "markdown",
      "metadata": {
        "id": "7kAlZlkw2b4w"
      },
      "source": [
        "### `Ключевое слово global`"
      ]
    },
    {
      "cell_type": "code",
      "execution_count": 37,
      "metadata": {
        "colab": {
          "base_uri": "https://localhost:8080/"
        },
        "id": "E4YHyloD2b4w",
        "outputId": "d09e9f1e-6a91-4b50-f425-9d83e56f44ea"
      },
      "outputs": [
        {
          "name": "stdout",
          "output_type": "stream",
          "text": [
            "Inside:  3\n",
            "Outside:  3\n"
          ]
        }
      ],
      "source": [
        "x = 2\n",
        "def func():\n",
        "    global x\n",
        "    x += 1  # write\n",
        "    print('Inside: ', x)\n",
        "\n",
        "func()\n",
        "print('Outside: ', x)"
      ]
    },
    {
      "cell_type": "code",
      "execution_count": 38,
      "metadata": {
        "colab": {
          "base_uri": "https://localhost:8080/"
        },
        "id": "RjKSY7xR2b4x",
        "outputId": "09c9414b-df1b-494f-c2fe-a5e0da4dc0fc"
      },
      "outputs": [
        {
          "name": "stdout",
          "output_type": "stream",
          "text": [
            "Inside:  3\n",
            "Outside:  3\n"
          ]
        }
      ],
      "source": [
        "x = 2\n",
        "def func(x):\n",
        "    x += 1\n",
        "    print('Inside: ', x)\n",
        "    return x\n",
        "\n",
        "x = func(x)\n",
        "print('Outside: ', x)"
      ]
    },
    {
      "cell_type": "markdown",
      "metadata": {
        "id": "B2C45tht2b4x"
      },
      "source": [
        "### `Ключевое слово nonlocal`"
      ]
    },
    {
      "cell_type": "markdown",
      "metadata": {
        "id": "9wQS2xbj37n_"
      },
      "source": [
        "nonlocal используется для работы с переменными из объемлющей (внешней) функции, но не глобальной области видимости. Оно позволяет изменять переменные из замыканий."
      ]
    },
    {
      "cell_type": "code",
      "execution_count": 40,
      "metadata": {
        "colab": {
          "base_uri": "https://localhost:8080/"
        },
        "id": "j2mHW7fM2b4x",
        "outputId": "36bdc2c5-769a-4a3d-d309-71d6a51ceb8b"
      },
      "outputs": [
        {
          "name": "stdout",
          "output_type": "stream",
          "text": [
            "100 110 120\n"
          ]
        }
      ],
      "source": [
        "a = 0\n",
        "def out_func():\n",
        "    b = 10\n",
        "    def mid_func():\n",
        "        c = 20\n",
        "        def in_func():\n",
        "            global a\n",
        "            a += 100\n",
        "\n",
        "            nonlocal c\n",
        "            c += 100\n",
        "\n",
        "            nonlocal b\n",
        "            b += 100\n",
        "\n",
        "            print(a, b, c)\n",
        "\n",
        "        in_func()\n",
        "    mid_func()\n",
        "\n",
        "out_func()"
      ]
    },
    {
      "cell_type": "markdown",
      "metadata": {
        "id": "hR9tUfe92b4x"
      },
      "source": [
        "__Главный вывод:__ не надо злоупотреблять побочными эффектами при работе с переменными верхних уровней"
      ]
    },
    {
      "cell_type": "markdown",
      "metadata": {
        "id": "gsSzYEwk2b4x"
      },
      "source": [
        "### `Пример вложенных функций: замыкания`\n",
        "\n",
        "- В большинстве случаев вложенные функции не нужны, плоская иерархия будет и проще, и понятнее\n",
        "- Одно из исключений - фабричные функции (замыкания). Замыкания - мощная концепция Python, когда внутренняя функция \"запоминает\" окружение, в котором была создана."
      ]
    },
    {
      "cell_type": "code",
      "execution_count": 41,
      "metadata": {
        "colab": {
          "base_uri": "https://localhost:8080/"
        },
        "id": "3P0Ik2p42b4x",
        "outputId": "345f57da-39fe-45f9-e648-eb17dcb204e8"
      },
      "outputs": [
        {
          "data": {
            "text/plain": [
              "32"
            ]
          },
          "execution_count": 41,
          "metadata": {},
          "output_type": "execute_result"
        }
      ],
      "source": [
        "def function_creator(n):\n",
        "    def function(x):\n",
        "        return x ** n\n",
        "\n",
        "    return function\n",
        "\n",
        "f5 = function_creator(5)\n",
        "f5(2)"
      ]
    },
    {
      "cell_type": "markdown",
      "metadata": {
        "id": "aRzE5svL2b4x"
      },
      "source": [
        "Объект-функция, на который ссылается `f`, хранит в себе значение `n`"
      ]
    },
    {
      "cell_type": "markdown",
      "metadata": {
        "id": "e40f5q6u2b4x"
      },
      "source": [
        "### `Анонимные функции`\n",
        "\n",
        "- `def` - не единственный способ объявления функции\n",
        "- `lambda` создаёт анонимную (lambda) функцию\n",
        "\n",
        "\n",
        "Такие функции часто используются там, где синтаксически нельзя записать определение через `def`"
      ]
    },
    {
      "cell_type": "code",
      "execution_count": 42,
      "metadata": {
        "colab": {
          "base_uri": "https://localhost:8080/"
        },
        "id": "cEMold9o2b4x",
        "outputId": "8a28944b-e362-47c7-cc5d-55e2f1075eb3"
      },
      "outputs": [
        {
          "data": {
            "text/plain": [
              "36"
            ]
          },
          "execution_count": 42,
          "metadata": {},
          "output_type": "execute_result"
        }
      ],
      "source": [
        "def func(x): return x ** 2\n",
        "func(6)"
      ]
    },
    {
      "cell_type": "code",
      "execution_count": 43,
      "metadata": {
        "colab": {
          "base_uri": "https://localhost:8080/"
        },
        "id": "mzkxnCUw2b4x",
        "outputId": "7a90a334-d6c3-4106-9a43-e81ad8156c0c"
      },
      "outputs": [
        {
          "data": {
            "text/plain": [
              "36"
            ]
          },
          "execution_count": 43,
          "metadata": {},
          "output_type": "execute_result"
        }
      ],
      "source": [
        "lambda_func = lambda x: x ** 2  # should be an expression\n",
        "lambda_func(6)"
      ]
    },
    {
      "cell_type": "code",
      "execution_count": 44,
      "metadata": {
        "colab": {
          "base_uri": "https://localhost:8080/"
        },
        "id": "zWcLGPFt2b4x",
        "outputId": "4ebeba44-656f-419a-c2f3-17f729e2bd04"
      },
      "outputs": [
        {
          "name": "stdout",
          "output_type": "stream",
          "text": [
            "6\n"
          ]
        }
      ],
      "source": [
        "def func(x): print(x)\n",
        "func(6)"
      ]
    },
    {
      "cell_type": "code",
      "execution_count": 45,
      "metadata": {
        "colab": {
          "base_uri": "https://localhost:8080/"
        },
        "id": "EzTMD1Vx2b4x",
        "outputId": "42ea3e0e-58f7-48e4-bbe3-be5e054b4123"
      },
      "outputs": [
        {
          "name": "stdout",
          "output_type": "stream",
          "text": [
            "36\n"
          ]
        }
      ],
      "source": [
        "lambda_func = lambda x: print(x ** 2)  # as print is function in Python 3.*\n",
        "lambda_func(6)"
      ]
    },
    {
      "cell_type": "markdown",
      "metadata": {
        "id": "r0C4wKg42b4x"
      },
      "source": [
        "### `Встроенная функция sorted`"
      ]
    },
    {
      "cell_type": "code",
      "execution_count": 46,
      "metadata": {
        "colab": {
          "base_uri": "https://localhost:8080/"
        },
        "id": "BIEy6xdu2b4x",
        "outputId": "bfbd8f40-0bc6-483c-fd5c-91bcda87206f"
      },
      "outputs": [
        {
          "name": "stdout",
          "output_type": "stream",
          "text": [
            "[-9, -1, 2, 5, 7]\n"
          ]
        }
      ],
      "source": [
        "lst = [5, 2, 7, -9, -1]\n",
        "\n",
        "print(sorted(lst))"
      ]
    },
    {
      "cell_type": "code",
      "execution_count": 47,
      "metadata": {
        "colab": {
          "base_uri": "https://localhost:8080/"
        },
        "id": "V-XlcFZL2b4y",
        "outputId": "2642b12a-d982-40aa-9dd5-beedfeab0b03"
      },
      "outputs": [
        {
          "name": "stdout",
          "output_type": "stream",
          "text": [
            "[-1, 2, 5, 7, -9]\n"
          ]
        }
      ],
      "source": [
        "def abs_comparator(x):\n",
        "    return abs(x)\n",
        "\n",
        "print(sorted(lst, key=abs_comparator))"
      ]
    },
    {
      "cell_type": "code",
      "execution_count": 48,
      "metadata": {
        "colab": {
          "base_uri": "https://localhost:8080/"
        },
        "id": "74_J1IAn2b4y",
        "outputId": "974deb25-077f-4227-f46f-8d46e1723082"
      },
      "outputs": [
        {
          "name": "stdout",
          "output_type": "stream",
          "text": [
            "[-1, 2, 5, 7, -9]\n",
            "[-1, 2, 5, 7, -9]\n"
          ]
        }
      ],
      "source": [
        "print(sorted(lst, key=lambda x: abs(x)))\n",
        "print(sorted(lst, key=abs))"
      ]
    },
    {
      "cell_type": "markdown",
      "metadata": {
        "id": "X9LbUZu02b4y"
      },
      "source": [
        "Более сложный пример"
      ]
    },
    {
      "cell_type": "code",
      "execution_count": 49,
      "metadata": {
        "colab": {
          "base_uri": "https://localhost:8080/"
        },
        "id": "hSZBc2-a2b4y",
        "outputId": "aa3214b0-dcdc-4f50-c390-79dbc94bc2d6"
      },
      "outputs": [
        {
          "name": "stdout",
          "output_type": "stream",
          "text": [
            "[(0, 3), (1, 0), (1, 1), (1, 2), (2, 1)]\n"
          ]
        }
      ],
      "source": [
        "lst = [(1, 0), (1, 1), (1, 2), (0, 3), (2, 1)]\n",
        "print(sorted(lst))"
      ]
    },
    {
      "cell_type": "code",
      "execution_count": 50,
      "metadata": {
        "colab": {
          "base_uri": "https://localhost:8080/"
        },
        "id": "3U_fxxhV2b4y",
        "outputId": "91e79735-6d53-40bc-9c41-bd3db89728d6"
      },
      "outputs": [
        {
          "name": "stdout",
          "output_type": "stream",
          "text": [
            "[(1, 0), (1, 1), (2, 1), (1, 2), (0, 3)]\n",
            "[(1, 2), (2, 1), (1, 1), (1, 0), (0, 3)]\n"
          ]
        }
      ],
      "source": [
        "print(sorted(lst, key=lambda x: x[1])) # сортировка по второму элементу\n",
        "print(sorted(lst, key=lambda x: x[0] * x[1], reverse=True)) # сортировка по убыванию произведения"
      ]
    },
    {
      "cell_type": "markdown",
      "metadata": {
        "id": "eqQM_VwA2b4y"
      },
      "source": [
        "\n",
        "### `Встроенная функция filter`"
      ]
    },
    {
      "cell_type": "code",
      "execution_count": 51,
      "metadata": {
        "id": "q3X5oqRA2b4y"
      },
      "outputs": [],
      "source": [
        "lst = [5, 2, 7, -9, -1]"
      ]
    },
    {
      "cell_type": "code",
      "execution_count": 52,
      "metadata": {
        "colab": {
          "base_uri": "https://localhost:8080/"
        },
        "id": "KP2gYhrm2b4y",
        "outputId": "b0fdf19e-d3ed-4de1-e550-cca6ae5724a1"
      },
      "outputs": [
        {
          "data": {
            "text/plain": [
              "filter"
            ]
          },
          "execution_count": 52,
          "metadata": {},
          "output_type": "execute_result"
        }
      ],
      "source": [
        "f = filter(lambda x: x < 0, lst)\n",
        "type(f)"
      ]
    },
    {
      "cell_type": "code",
      "execution_count": 53,
      "metadata": {
        "colab": {
          "base_uri": "https://localhost:8080/"
        },
        "id": "WrZz-upb2b4y",
        "outputId": "04a39e41-24ec-4e44-d884-55303d9e4d93"
      },
      "outputs": [
        {
          "data": {
            "text/plain": [
              "[-9, -1]"
            ]
          },
          "execution_count": 53,
          "metadata": {},
          "output_type": "execute_result"
        }
      ],
      "source": [
        "list(f)"
      ]
    },
    {
      "cell_type": "markdown",
      "metadata": {
        "id": "ERtwIlCK2b4y"
      },
      "source": [
        "### `Встроенная функция map`"
      ]
    },
    {
      "cell_type": "code",
      "execution_count": 54,
      "metadata": {
        "id": "mJs7Z46H2b4y"
      },
      "outputs": [],
      "source": [
        "lst = [(1, 0), (1, 1), (1, 2), (0, 3), (2, 1)]"
      ]
    },
    {
      "cell_type": "code",
      "execution_count": 55,
      "metadata": {
        "colab": {
          "base_uri": "https://localhost:8080/"
        },
        "id": "sHUvRB6J2b4y",
        "outputId": "b690fcd6-32fd-4e0e-815d-0c3a22ad6780"
      },
      "outputs": [
        {
          "data": {
            "text/plain": [
              "map"
            ]
          },
          "execution_count": 55,
          "metadata": {},
          "output_type": "execute_result"
        }
      ],
      "source": [
        "m = map(lambda x: x[0] * x [1], lst)\n",
        "type(m)"
      ]
    },
    {
      "cell_type": "code",
      "execution_count": 56,
      "metadata": {
        "colab": {
          "base_uri": "https://localhost:8080/"
        },
        "id": "Q7AYYFWv2b4y",
        "outputId": "f25be9c6-9867-42c0-a1b7-e57a65bf98a5"
      },
      "outputs": [
        {
          "data": {
            "text/plain": [
              "[0, 1, 2, 0, 2]"
            ]
          },
          "execution_count": 56,
          "metadata": {},
          "output_type": "execute_result"
        }
      ],
      "source": [
        "list(m)"
      ]
    },
    {
      "cell_type": "markdown",
      "metadata": {
        "id": "23K98OiO2b4y"
      },
      "source": [
        "### `Ещё раз сравним два подхода`\n",
        "\n",
        "Напишем функцию скалярного произведения в императивном и функциональном стилях:"
      ]
    },
    {
      "cell_type": "code",
      "execution_count": 57,
      "metadata": {
        "id": "BsXqBT-72b4y"
      },
      "outputs": [],
      "source": [
        "def dot_product_imp(v, w):\n",
        "    result = 0\n",
        "    for i in range(len(v)):\n",
        "        result += v[i] * w[i]\n",
        "    return result"
      ]
    },
    {
      "cell_type": "code",
      "execution_count": 58,
      "metadata": {
        "id": "0Qc6UNmu2b4y"
      },
      "outputs": [],
      "source": [
        "dot_product_func = lambda v, w: sum(map(lambda x: x[0] * x[1], zip(v, w)))"
      ]
    },
    {
      "cell_type": "code",
      "execution_count": 59,
      "metadata": {
        "colab": {
          "base_uri": "https://localhost:8080/"
        },
        "id": "KxJRURSC2b4z",
        "outputId": "ca24c10a-4856-405a-b97a-71994b9cda2f"
      },
      "outputs": [
        {
          "name": "stdout",
          "output_type": "stream",
          "text": [
            "32\n",
            "32\n"
          ]
        }
      ],
      "source": [
        "print(dot_product_imp([1, 2, 3], [4, 5, 6]))\n",
        "print(dot_product_func([1, 2, 3], [4, 5, 6]))"
      ]
    },
    {
      "cell_type": "markdown",
      "metadata": {
        "id": "hEtkZdoM2b4z"
      },
      "source": [
        "### `Функция reduce`\n",
        "\n",
        "`functools` - стандартный модуль с другими функциями высшего порядка.\n",
        "\n",
        "Рассмотрим пока только функцию `reduce`:"
      ]
    },
    {
      "cell_type": "code",
      "execution_count": 60,
      "metadata": {
        "colab": {
          "base_uri": "https://localhost:8080/"
        },
        "id": "JPtruhaL2b4z",
        "outputId": "70ecd7c2-da50-43e2-b487-87642a3d4bd7"
      },
      "outputs": [
        {
          "data": {
            "text/plain": [
              "362880"
            ]
          },
          "execution_count": 60,
          "metadata": {},
          "output_type": "execute_result"
        }
      ],
      "source": [
        "from functools import reduce\n",
        "\n",
        "lst = list(range(1, 10))\n",
        "\n",
        "reduce(lambda x, y: x * y, lst)"
      ]
    },
    {
      "cell_type": "markdown",
      "metadata": {
        "id": "ovk6q1g-2b4z"
      },
      "source": [
        "# `Итераторы`\n",
        "\n",
        "Итератор - это не функция и не класс, а объект (экземпляр класса), который реализует определенный протокол.\n",
        "\n",
        "\n",
        "- Итераторы используются для итерирования по последовательностям, при этом:\n",
        "    - последовательности могут быть неиндексируемыми (например, `set`)\n",
        "    - в процессе работы элементы могут фильтроваться или преобразовываться\n",
        "    - итераторы работают лениво\n",
        "\n",
        "\n",
        "- В Python для итераторов есть две встроенные функции:\n",
        "    - `iter(x: iterable)` - создаёт итератор для переданной последовательности\n",
        "    - `next(it: iterator)` - выполняет шаг итерации для переданного итератора"
      ]
    },
    {
      "cell_type": "code",
      "execution_count": 61,
      "metadata": {
        "colab": {
          "base_uri": "https://localhost:8080/"
        },
        "id": "1azcfGaj2b4z",
        "outputId": "bfefce55-6cf5-4b82-b4fe-b98cb974df40"
      },
      "outputs": [
        {
          "name": "stdout",
          "output_type": "stream",
          "text": [
            "1 2 3\n",
            "<class 'list_iterator'>\n"
          ]
        }
      ],
      "source": [
        "r = iter([1, 2, 3])\n",
        "\n",
        "print(next(r), next(r), next(r))\n",
        "#next(r) -> StopIteration\n",
        "\n",
        "print(type(r))"
      ]
    },
    {
      "cell_type": "markdown",
      "metadata": {
        "id": "iPTkMn-12b4z"
      },
      "source": [
        "Итераторы можно получать вызовами стандартных функций:"
      ]
    },
    {
      "cell_type": "code",
      "execution_count": 62,
      "metadata": {
        "colab": {
          "base_uri": "https://localhost:8080/"
        },
        "id": "nXbji0QI2b4z",
        "outputId": "7bc558d1-9535-4309-8da2-42bc4e080f6e"
      },
      "outputs": [
        {
          "name": "stdout",
          "output_type": "stream",
          "text": [
            "<class 'enumerate'>\n",
            "(0, 1) (1, 2) (2, 3)\n"
          ]
        }
      ],
      "source": [
        "r = enumerate([1, 2, 3])\n",
        "print(type(r))\n",
        "\n",
        "print(next(r), next(r), next(r))\n",
        "#next(r) -> StopIteration"
      ]
    },
    {
      "cell_type": "markdown",
      "metadata": {
        "id": "vXYc5oj32b4z"
      },
      "source": [
        "Цикл `for` использует итераторы вместо индексов. Как выглядит `for` снаружи:"
      ]
    },
    {
      "cell_type": "code",
      "execution_count": 64,
      "metadata": {
        "colab": {
          "base_uri": "https://localhost:8080/"
        },
        "id": "m1sCx-JH2b4z",
        "outputId": "cd550f81-1130-48f9-cf9b-f96e1ec41ac2"
      },
      "outputs": [
        {
          "name": "stdout",
          "output_type": "stream",
          "text": [
            "1 2 3 "
          ]
        }
      ],
      "source": [
        "for e in {1, 2, 3}:\n",
        "    print(e, end=' ')"
      ]
    },
    {
      "cell_type": "markdown",
      "metadata": {
        "id": "5TaF9xqN2b4z"
      },
      "source": [
        "Как он работает на самом деле:"
      ]
    },
    {
      "cell_type": "code",
      "execution_count": 65,
      "metadata": {
        "colab": {
          "base_uri": "https://localhost:8080/"
        },
        "id": "aPuqc5Ur2b4z",
        "outputId": "b8bf5b48-8ffb-43b1-8925-2dded4d72158"
      },
      "outputs": [
        {
          "name": "stdout",
          "output_type": "stream",
          "text": [
            "1 2 3 "
          ]
        }
      ],
      "source": [
        "iterator = iter({1, 2, 3})\n",
        "while True:\n",
        "    try:\n",
        "        i = next(iterator)\n",
        "        print(i, end=' ')\n",
        "    except StopIteration:\n",
        "        break"
      ]
    },
    {
      "cell_type": "markdown",
      "metadata": {
        "id": "qBqNliUR2b4z"
      },
      "source": [
        "Примеры встроенных функций, возвращающих итераторы:\n",
        "\n",
        "- `enumerate`\n",
        "- `zip`\n",
        "- `open`\n",
        "- `reversed`\n",
        "- `map` (похож на генератор, но метод `send` не реализует)\n",
        "- `filter`\n",
        "\n",
        "Вызов `iter` от итератора вернет тот же самый итератор:"
      ]
    },
    {
      "cell_type": "code",
      "execution_count": 66,
      "metadata": {
        "colab": {
          "base_uri": "https://localhost:8080/"
        },
        "id": "BvDtVSis2b4z",
        "outputId": "7d2b2e3f-d9c7-43c2-f079-e94eb23527f4",
        "scrolled": true
      },
      "outputs": [
        {
          "name": "stdout",
          "output_type": "stream",
          "text": [
            "1 2 3\n"
          ]
        }
      ],
      "source": [
        "i = iter([1, 2, 3])\n",
        "\n",
        "print(next(i), next(iter(i)), next(i))"
      ]
    },
    {
      "cell_type": "markdown",
      "metadata": {
        "id": "FkAaIYfc2b4z"
      },
      "source": [
        "# `Генераторы`\n",
        "\n",
        "- __Генератор__ - подтип итератора\n",
        "- В генераторе есть внутреннее изменяемое состояние в виде локальных переменных, которое он хранит автоматически\n",
        "- В генератор можно посылать данные между итерациями (метод `send`)\n",
        "- Генераторы можно создавать с помощью генераторных выражений или описывать функциями, в которых `return` заменяется на `yield`\n",
        "\n",
        "Пример генератора, полученного с помощью выражения:"
      ]
    },
    {
      "cell_type": "code",
      "execution_count": 67,
      "metadata": {
        "colab": {
          "base_uri": "https://localhost:8080/"
        },
        "id": "3s0DldJX2b40",
        "outputId": "9d302d3b-a433-45fc-fd06-9f225f54aa06"
      },
      "outputs": [
        {
          "name": "stdout",
          "output_type": "stream",
          "text": [
            "0 1\n",
            "<class 'generator'>\n"
          ]
        }
      ],
      "source": [
        "gen = (x**2 for x in range(5))\n",
        "\n",
        "print(next(gen), next(gen))\n",
        "print(type(gen))"
      ]
    },
    {
      "cell_type": "markdown",
      "metadata": {
        "id": "EaOax8qu2b40"
      },
      "source": [
        "### `Ключевое слово yield`\n",
        "\n",
        "- `yield` - это слово, по смыслу похожее на `return`<br><br>\n",
        "- Но используется в функциях, возвращающих генераторы<br><br>\n",
        "- При вызове такой функции тело не выполняется, функция только возвращает генератор<br><br>\n",
        "- В первых запуск функция будет выполняться от начала и до `yield`<br><br>\n",
        "- После выхода состояние функции сохраняется<br><br>\n",
        "- На следующий вызов будет проводиться итерация цикла и возвращаться следующее значение<br><br>\n",
        "- И так далее, пока не кончится цикл каждого `yield` в теле функции<br><br>\n",
        "- После этого генератор станет пустым"
      ]
    },
    {
      "cell_type": "markdown",
      "metadata": {
        "id": "RFyFgnRk2b40"
      },
      "source": [
        "### `Пример функции-генератора`"
      ]
    },
    {
      "cell_type": "code",
      "execution_count": 68,
      "metadata": {
        "id": "Y3785vj-2b40"
      },
      "outputs": [],
      "source": [
        "def my_range(n):\n",
        "    yield 'You really want to run this generator?'\n",
        "\n",
        "    i = -1\n",
        "    while i < n:\n",
        "        i += 1\n",
        "        yield i"
      ]
    },
    {
      "cell_type": "code",
      "execution_count": 69,
      "metadata": {
        "colab": {
          "base_uri": "https://localhost:8080/"
        },
        "id": "qqPyGqco2b40",
        "outputId": "b835028c-5aa2-4654-94c2-34da80fe5b6e"
      },
      "outputs": [
        {
          "name": "stdout",
          "output_type": "stream",
          "text": [
            "You really want to run this generator?   0   1   2   3   "
          ]
        }
      ],
      "source": [
        "gen = my_range(3)\n",
        "while True:\n",
        "    try:\n",
        "        print(next(gen), end='   ')\n",
        "    except StopIteration:  # we want to catch this type of exceptions\n",
        "        break"
      ]
    },
    {
      "cell_type": "code",
      "execution_count": null,
      "metadata": {
        "id": "VszzzXrG2b40"
      },
      "outputs": [],
      "source": [
        "for e in my_range(3):\n",
        "    print(e, end='   ')"
      ]
    },
    {
      "cell_type": "markdown",
      "metadata": {
        "id": "fqqZjWl22b40"
      },
      "source": [
        "### `Генераторы и метод send`\n",
        "\n",
        "- Выражение `yield x` выполняет две вещи:\n",
        "    1. Возвращает вызывающему генератор коду значение `x`\n",
        "    2. Возвращает на уровне кода генератора значение `None`\n",
        "\n",
        "\n",
        "- Расширенный протокол генератора содержит метод `send`, получающий на вход произвольный объект `y`\n",
        "- В случае вызова `send(y)` выполняется то же, что и при `next`, но `yield` вернет на уровне кода генератора не `None`, а `y`"
      ]
    },
    {
      "cell_type": "code",
      "execution_count": null,
      "metadata": {
        "id": "zkwW28Mu2b40"
      },
      "outputs": [],
      "source": [
        "def create_gen():\n",
        "    for x in range(5):\n",
        "        y = yield x\n",
        "        print(f'y = {y}', end='   ')"
      ]
    },
    {
      "cell_type": "code",
      "execution_count": null,
      "metadata": {
        "id": "lkQLM8oD2b40"
      },
      "outputs": [],
      "source": [
        "gen = create_gen()\n",
        "\n",
        "print(next(gen), end=' | ')\n",
        "print(next(gen), end=' | ')\n",
        "\n",
        "print(gen.send(10), end=' | ')\n",
        "print(next(gen), end=' | ')"
      ]
    },
    {
      "cell_type": "markdown",
      "metadata": {
        "id": "bVJf8X272b40"
      },
      "source": [
        "### `Итераторы и функция range`\n",
        "\n",
        "Результат работы `range` не является итератором, хотя и выполняет его роль:"
      ]
    },
    {
      "cell_type": "code",
      "execution_count": null,
      "metadata": {
        "id": "uzHaIY3M2b40"
      },
      "outputs": [],
      "source": [
        "print('__next__' in dir(zip([], [])))\n",
        "print('__next__' in dir(range(3)))"
      ]
    },
    {
      "cell_type": "markdown",
      "metadata": {
        "id": "45d2gARs2b40"
      },
      "source": [
        "__Особенности объектов__ `range`:\n",
        "- как и итераторы, выполняются лениво\n",
        "- являются неизменяемыми (могут быть ключами словаря)\n",
        "- имеют полезные атрибуты (`len`, `index`, `__getitem__`)\n",
        "- по ним можно итерироваться многократно"
      ]
    },
    {
      "cell_type": "markdown",
      "metadata": {
        "id": "LJ5cFHTE2b40"
      },
      "source": [
        "### `Модуль itertools`\n",
        "\n",
        "- Модуль представляет собой набор инструментов для работы с итераторами и последовательностями<br><br>\n",
        "- Содержит три основных типа итераторов:<br><br>\n",
        "    - бесконечные итераторы\n",
        "    - конечные итераторы\n",
        "    - комбинаторные итераторы<br><br>\n",
        "\n",
        "- Позволяет эффективно решать небольшие задачи вида:<br><br>\n",
        "    - итерирование по бесконечному потоку\n",
        "    - слияние в один список вложенных списков\n",
        "    - генерация комбинаторного перебора сочетаний элементов последовательности\n",
        "    - аккумуляция и агрегация данных внутри последовательности"
      ]
    },
    {
      "cell_type": "markdown",
      "metadata": {
        "id": "2kB9ICzg2b40"
      },
      "source": [
        "### `Модуль itertools: примеры`"
      ]
    },
    {
      "cell_type": "code",
      "execution_count": null,
      "metadata": {
        "id": "E-tA2gsQ2b40"
      },
      "outputs": [],
      "source": [
        "from itertools import count\n",
        "\n",
        "for i in count(start=0):\n",
        "    print(i, end='  ')\n",
        "    if i == 5:\n",
        "        break"
      ]
    },
    {
      "cell_type": "code",
      "execution_count": null,
      "metadata": {
        "id": "3ZG_ttH52b40"
      },
      "outputs": [],
      "source": [
        "from itertools import cycle\n",
        "\n",
        "count = 0\n",
        "for item in cycle('XYZ'):\n",
        "    if count > 4:\n",
        "        break\n",
        "    print(item, end='  ')\n",
        "    count += 1"
      ]
    },
    {
      "cell_type": "code",
      "execution_count": null,
      "metadata": {
        "id": "C9rFN_Rv2b41"
      },
      "outputs": [],
      "source": [
        "from itertools import accumulate\n",
        "\n",
        "for i in accumulate(range(1, 6), lambda x, y: x * y):\n",
        "    print(i, end='  ')"
      ]
    },
    {
      "cell_type": "code",
      "execution_count": null,
      "metadata": {
        "id": "Ed9Hvqre2b41"
      },
      "outputs": [],
      "source": [
        "from itertools import chain\n",
        "\n",
        "for i in chain([1, 2], [3], [4]):\n",
        "    print(i, end='  ')"
      ]
    },
    {
      "cell_type": "code",
      "execution_count": null,
      "metadata": {
        "id": "KGNjddV02b41"
      },
      "outputs": [],
      "source": [
        "from itertools import groupby\n",
        "\n",
        "vehicles = [('Ford', 'Taurus'), ('Dodge', 'Durango'),\n",
        "            ('Chevrolet', 'Cobalt'), ('Ford', 'F150'),\n",
        "            ('Dodge', 'Charger'), ('Ford', 'GT')]\n",
        "\n",
        "sorted_vehicles = sorted(vehicles)\n",
        "\n",
        "for key, group in groupby(sorted_vehicles, lambda x: x[0]):\n",
        "    for maker, model in group:\n",
        "        print('{model} is made by {maker}'.format(model=model, maker=maker))\n",
        "\n",
        "    print (\"**** END OF THE GROUP ***\\n\")"
      ]
    },
    {
      "cell_type": "code",
      "execution_count": null,
      "metadata": {
        "id": "fLo7NLBP2b41"
      },
      "outputs": [],
      "source": [
        "from itertools import product, permutations, combinations\n",
        "print (list(product(\"AB\", repeat=2)))\n",
        "print (list(permutations(\"ABC\")))\n",
        "print (list(combinations(\"ABC\", 2)))\n"
      ]
    },
    {
      "cell_type": "markdown",
      "metadata": {
        "id": "H65sDgsF2b41"
      },
      "source": [
        "# `Модули`"
      ]
    },
    {
      "cell_type": "markdown",
      "metadata": {
        "id": "l1Vje9KF2b41"
      },
      "source": [
        "Любой файл с расширением `.py` является модулем\n",
        "\n",
        "Оператор `import` импортирует модуль и создаёт ссылку на модуль в текущей области видимости:\n",
        "- ищет в sys.path имя\n",
        "- компилирует в байт-код (если версия уже неактуальна)\n",
        "- выполняет код (только первый раз)"
      ]
    },
    {
      "cell_type": "code",
      "execution_count": null,
      "metadata": {
        "id": "0BJ4W5e42b41"
      },
      "outputs": [],
      "source": [
        "import itertools\n",
        "\n",
        "import itertools as it\n",
        "\n",
        "from itertools import product as prd\n",
        "\n",
        "# from itertools import *"
      ]
    },
    {
      "cell_type": "markdown",
      "metadata": {
        "id": "OzglyiU82b41"
      },
      "source": [
        "Так как модули тоже объекты, у них тоже есть атрибуты"
      ]
    },
    {
      "cell_type": "code",
      "execution_count": null,
      "metadata": {
        "id": "MolfYKej2b41"
      },
      "outputs": [],
      "source": [
        "import itertools\n",
        "print(itertools.__name__)\n",
        "\n",
        "# print(my_module.__path__)"
      ]
    },
    {
      "cell_type": "markdown",
      "metadata": {
        "id": "YqVOVm6E2b41"
      },
      "source": [
        "У модулей, переданных на выполнение интерпретатору, `__name__ == '__main__'`"
      ]
    },
    {
      "cell_type": "code",
      "execution_count": null,
      "metadata": {
        "id": "sGl4QzFz2b41"
      },
      "outputs": [],
      "source": [
        "if __name__ == '__main__':\n",
        "    # Код, выполняющийся только если именно этот модуль передан интерпретатору\n",
        "    pass"
      ]
    },
    {
      "cell_type": "code",
      "execution_count": null,
      "metadata": {
        "id": "2ZssEc2m2b41"
      },
      "outputs": [],
      "source": [
        "# Если модуль нужно перезагрузить принудительно\n",
        "from importlib import reload\n",
        "reload(itertools)\n"
      ]
    },
    {
      "cell_type": "markdown",
      "metadata": {
        "id": "JmuSTxIv2b41"
      },
      "source": [
        "# `Классы`"
      ]
    },
    {
      "cell_type": "markdown",
      "metadata": {
        "id": "96BdxQgD2b41"
      },
      "source": [
        "Класс объявлется с помощью ключевого слова `class`"
      ]
    },
    {
      "cell_type": "code",
      "execution_count": null,
      "metadata": {
        "id": "dNVmeaT62b42"
      },
      "outputs": [],
      "source": [
        "class MyClass:\n",
        "    def __init__(self, value):\n",
        "        self.value = value\n",
        "\n",
        "    def get_value(self):\n",
        "        return self.value\n",
        "\n",
        "my_obj = MyClass(2)\n",
        "print(my_obj.get_value())"
      ]
    },
    {
      "cell_type": "markdown",
      "metadata": {
        "id": "UUcYexJP2b42"
      },
      "source": [
        "Каждый объект экземпляра наследует атрибуты класса и  приобретает свое собственное пространство имен"
      ]
    },
    {
      "cell_type": "markdown",
      "metadata": {
        "id": "IT4LD0LE2b42"
      },
      "source": [
        "### `Функция __init__`"
      ]
    },
    {
      "cell_type": "markdown",
      "metadata": {
        "id": "Q8Y_Ot5t2b42"
      },
      "source": [
        "- Главное: `__init__` - не конструктор! Она ничего не создаёт и не возвращает\n",
        "\n",
        "- Созданием объекта занимается функция `__new__`, переопределять которую без необходимости не надо\n",
        "\n",
        "- `__init__` получает на вход готовый объект и инициализирует его атрибуты\n",
        "\n",
        "В отличие от C++, атрибуты можно добавлять/удалять на ходу:"
      ]
    },
    {
      "cell_type": "code",
      "execution_count": null,
      "metadata": {
        "id": "QklGo_832b42"
      },
      "outputs": [],
      "source": [
        "class Cls:\n",
        "    pass\n",
        "\n",
        "cls = Cls()\n",
        "cls.field = 'field'\n",
        "print(cls.field)\n",
        "\n",
        "del cls.field\n",
        "print(cls.field)  # AttributeError: 'Cls' object has no attribute 'field'"
      ]
    },
    {
      "cell_type": "markdown",
      "metadata": {
        "id": "Qt_bV0SY2b42"
      },
      "source": [
        "### `Параметр self`"
      ]
    },
    {
      "cell_type": "markdown",
      "metadata": {
        "id": "QdaPVWe72b42"
      },
      "source": [
        "- Метод класса отличается от обычной функции только наличием объекта `self` в качестве первого аргумента\n",
        "\n",
        "- Это то же самое, что происходит в C++/Java (там аналогом `self` является указатель/ссылка `this`)\n",
        "\n",
        "- Название `self` является общим соглашением, но можно использовать и другое (не надо!)\n",
        "\n",
        "- Метод класса, не получающий на вход `self` является _статическим_\n",
        "\n",
        "- Статические методы часто используются для специализированного создания объектов класса\n"
      ]
    },
    {
      "cell_type": "markdown",
      "metadata": {
        "id": "OzcCPkZx2b42"
      },
      "source": [
        "### `Доступ к атрибутам`"
      ]
    },
    {
      "cell_type": "markdown",
      "metadata": {
        "id": "mcpGqgV92b42"
      },
      "source": [
        "- Для работы с атрибутами есть функции `getattr`, `setattr` и `delattr`\n",
        "- Их основное преимущество - оперирование именами атрибутов в виде строк"
      ]
    },
    {
      "cell_type": "code",
      "execution_count": null,
      "metadata": {
        "id": "RwOX1W7p2b42"
      },
      "outputs": [],
      "source": [
        "cls = Cls()\n",
        "\n",
        "setattr(cls, 'some_attr', 'some')\n",
        "\n",
        "print(getattr(cls, 'some_attr'))\n",
        "\n",
        "delattr(cls, 'some_attr')\n",
        "\n",
        "print(getattr(cls, 'some_attr'))"
      ]
    },
    {
      "cell_type": "markdown",
      "metadata": {
        "id": "pYV3MvDl2b42"
      },
      "source": [
        "### `Class magic methods (магические методы)`"
      ]
    },
    {
      "cell_type": "markdown",
      "metadata": {
        "id": "EUFTNQcL2b42"
      },
      "source": [
        "- Магические методы придают объекту класса определённые свойства\n",
        "\n",
        "- Такие методы получают `self` вызываются интерпретатором неявно\n",
        "\n",
        "- Например, операторы — это магические методы\n",
        "\n",
        "Рассмотрим несколько примеров:"
      ]
    },
    {
      "cell_type": "code",
      "execution_count": null,
      "metadata": {
        "id": "3EIXs7Lg2b42"
      },
      "outputs": [],
      "source": [
        "class Cls:\n",
        "    def __init__(self):  # initialize object\n",
        "        self.name = 'Some class'\n",
        "\n",
        "    def __repr__(self):  # str for printing object\n",
        "        return 'Class: {}'.format(self.name)\n",
        "\n",
        "    def __call__(self, counter):  # call == operator() in C++\n",
        "        return self.name * counter\n",
        "\n",
        "cls = Cls()\n",
        "print(cls)\n",
        "print(cls(2))"
      ]
    },
    {
      "cell_type": "markdown",
      "metadata": {
        "id": "Eahin-o02b42"
      },
      "source": [
        "### `Class magic methods`"
      ]
    },
    {
      "cell_type": "markdown",
      "metadata": {
        "id": "Y3rzTxjM2b42"
      },
      "source": [
        "\n",
        "Ещё примеры магических методов:"
      ]
    },
    {
      "cell_type": "code",
      "execution_count": null,
      "metadata": {
        "id": "kHXcFFHP2b42"
      },
      "outputs": [],
      "source": [
        "class Cls():\n",
        "    def __add__(self, other): pass # x + other\n",
        "\n",
        "    def __sub__(self, other): pass # x - other\n",
        "\n",
        "    def __mul__(self, value): pass # x * value\n",
        "\n",
        "    def __rmul__(self, value): pass # value * x\n",
        "\n",
        "    def __int__(self): pass # int(x)\n",
        "\n",
        "    def __getitem__(self, index): pass # x[index]\n",
        "\n",
        "    def __setitem__(self, index, value): pass # x[index] = value"
      ]
    },
    {
      "cell_type": "markdown",
      "metadata": {
        "id": "T_zK_x292b42"
      },
      "source": [
        "### `Class magic methods`"
      ]
    },
    {
      "cell_type": "markdown",
      "metadata": {
        "id": "Mo0PilFD2b43"
      },
      "source": [
        "Как выбирается метод при наличии парного, например, `__add__` и `__radd__` для `x + y`:\n",
        "\n",
        "1. ищется `x.__add__()`\n",
        "2. если нашёлся этот метод, то он и вызывается\n",
        "3. если выполнился успешно, то всё\n",
        "4. если `x.__add__()` не нашёлся или вернул специальный объект `NotImplemented` («не знаю я, что с вашим `y` делать!»), ищется метод `y.__radd__()`\n",
        "5. и, наконец, если последний нашёлся — выполняется, если нет — `TypeError`"
      ]
    },
    {
      "cell_type": "code",
      "execution_count": null,
      "metadata": {
        "id": "DLPdNLFZ2b43"
      },
      "outputs": [],
      "source": [
        "class ClsLeft:\n",
        "    def __add__(self, add):\n",
        "        print(f'__add__ у {self.__class__.__name__}')\n",
        "        return NotImplemented\n",
        "\n",
        "\n",
        "class ClsRight:\n",
        "    def __radd__(self, add):\n",
        "        print(f'__radd__ у {self.__class__.__name__}')\n",
        "        return ClsRight()\n",
        "\n",
        "\n",
        "ClsLeft() + ClsRight()\n",
        "print()"
      ]
    },
    {
      "cell_type": "markdown",
      "metadata": {
        "id": "Ld8EP7G-2b43"
      },
      "source": [
        "### `Ещё об атрибутах`"
      ]
    },
    {
      "cell_type": "markdown",
      "metadata": {
        "id": "VC3l145P2b43"
      },
      "source": [
        "Протокол свойств позволяет направлять операции чтения, записи и удаления для отдельных атрибутов отдельным функциям и методам\n",
        "\n",
        "`attribute = property(fget, fset, fdel, doc)`"
      ]
    },
    {
      "cell_type": "code",
      "execution_count": null,
      "metadata": {
        "id": "oh_rCUjY2b43"
      },
      "outputs": [],
      "source": [
        "class Cls():\n",
        "    def __init__(self):\n",
        "        self._value = 0\n",
        "\n",
        "    def getValue(self):\n",
        "        print(f'Getting value')\n",
        "        return self._value\n",
        "\n",
        "    def setValue(self, val):\n",
        "        print(f'Setting value to {val}')\n",
        "        self._value = val\n",
        "\n",
        "    value = property(getValue, setValue, None, 'VALUE')\n",
        "\n",
        "\n",
        "cls = Cls()\n",
        "\n",
        "print(cls.value)\n",
        "\n",
        "cls.value = 10\n",
        "print(cls.value)\n"
      ]
    },
    {
      "cell_type": "markdown",
      "metadata": {
        "id": "sOLNh07I2b43"
      },
      "source": [
        "### `Итератор`"
      ]
    },
    {
      "cell_type": "markdown",
      "metadata": {
        "id": "GWGcrWdv2b43"
      },
      "source": [
        "Класс, который должен поддерживать магические методы `__iter__` и `__next__`"
      ]
    },
    {
      "cell_type": "code",
      "execution_count": null,
      "metadata": {
        "id": "dJp6fEda2b43"
      },
      "outputs": [],
      "source": [
        "class iter_example:\n",
        "\n",
        "    def __init__(self, cnt):\n",
        "        self.max = cnt\n",
        "\n",
        "    def __iter__(self):\n",
        "        self.curr = 0\n",
        "        return self\n",
        "\n",
        "    def __next__(self):\n",
        "        if self.curr < self.max:\n",
        "            self.curr += 1\n",
        "            return self.curr ** 2\n",
        "\n",
        "        raise StopIteration\n",
        "\n",
        "\n",
        "a = iter(iter_example(5))\n",
        "print(*list(a))\n"
      ]
    },
    {
      "cell_type": "markdown",
      "metadata": {
        "id": "tvkdeHqg2b43"
      },
      "source": [
        "## `Спасибо за внимание!`"
      ]
    }
  ],
  "metadata": {
    "celltoolbar": "Slideshow",
    "colab": {
      "provenance": []
    },
    "kernelspec": {
      "display_name": "Python 3.9.9 ('msu_lectures-6nA09vt2')",
      "language": "python",
      "name": "python3"
    },
    "language_info": {
      "codemirror_mode": {
        "name": "ipython",
        "version": 3
      },
      "file_extension": ".py",
      "mimetype": "text/x-python",
      "name": "python",
      "nbconvert_exporter": "python",
      "pygments_lexer": "ipython3",
      "version": "3.12.8"
    },
    "vscode": {
      "interpreter": {
        "hash": "06ae1688a657068b40a9224ec4e20356cf323c84e074c6adaf35ac25262d8e06"
      }
    }
  },
  "nbformat": 4,
  "nbformat_minor": 0
}
